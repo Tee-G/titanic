{
 "cells": [
  {
   "cell_type": "code",
   "execution_count": 1,
   "id": "5affe063-592c-4e2e-b060-292b83a69b7f",
   "metadata": {},
   "outputs": [
    {
     "name": "stdout",
     "output_type": "stream",
     "text": [
      "   PassengerId  Survived  Pclass  \\\n",
      "0            1         0       3   \n",
      "1            2         1       1   \n",
      "2            3         1       3   \n",
      "3            4         1       1   \n",
      "4            5         0       3   \n",
      "\n",
      "                                                Name     Sex   Age  SibSp  \\\n",
      "0                            Braund, Mr. Owen Harris    male  22.0      1   \n",
      "1  Cumings, Mrs. John Bradley (Florence Briggs Th...  female  38.0      1   \n",
      "2                             Heikkinen, Miss. Laina  female  26.0      0   \n",
      "3       Futrelle, Mrs. Jacques Heath (Lily May Peel)  female  35.0      1   \n",
      "4                           Allen, Mr. William Henry    male  35.0      0   \n",
      "\n",
      "   Parch            Ticket     Fare Cabin Embarked  \n",
      "0      0         A/5 21171   7.2500     0        S  \n",
      "1      0          PC 17599  71.2833   C85        C  \n",
      "2      0  STON/O2. 3101282   7.9250     0        S  \n",
      "3      0            113803  53.1000  C123        S  \n",
      "4      0            373450   8.0500     0        S  \n"
     ]
    }
   ],
   "source": [
    "import pandas as pd \n",
    "import numpy as np\n",
    "import matplotlib.pyplot as plt\n",
    "import seaborn as sns\n",
    "data=pd.read_csv(r\"C:\\Users\\User\\Downloads\\train.csv\")\n",
    "f=pd.DataFrame(data)\n",
    "s=f.replace(np.nan, 0)\n",
    "print(s.head())"
   ]
  },
  {
   "cell_type": "code",
   "execution_count": null,
   "id": "729c58a4-bf68-4e30-b2a2-22a9ae5d5d3c",
   "metadata": {},
   "outputs": [],
   "source": []
  },
  {
   "cell_type": "code",
   "execution_count": 2,
   "id": "584a10cd-3228-4494-b788-fe0b29745926",
   "metadata": {},
   "outputs": [
    {
     "name": "stdout",
     "output_type": "stream",
     "text": [
      "the oldest female on the titanic was 63.0\n",
      "the oldest male on the titanic was 80.0\n",
      "the oldest female on the titanic who survived was 63.0\n",
      "the oldest male on the titanic who survived was 80.0\n",
      "the number of females that died were 81\n",
      "the number of females that survived were 233\n",
      "the number of males that died were 468\n",
      "the number of males that survived were 109\n",
      "Observation 1: It seems not a lot of old folks died \n",
      "Observation 2: More men died than women.\n"
     ]
    }
   ],
   "source": [
    "d=s.loc[s[\"Sex\"]==\"female\"]   \n",
    "#oldest female\n",
    "\n",
    "i=s.loc[s[\"Sex\"]==\"male\"]\n",
    "#oldest male\n",
    "\n",
    "e=d.loc[d[\"Survived\"]==1]\n",
    "#oldest female who survived\n",
    "\n",
    "o=i.loc[i[\"Survived\"]==1]\n",
    "#oldest male who survived\n",
    "\n",
    "q=d[\"Survived\"][d[\"Survived\"]==0].count()\n",
    "#this is the number of females that died\n",
    "\n",
    "w=d[\"Survived\"][d[\"Survived\"]==1].count()\n",
    "#this is the number of females that survived\n",
    "\n",
    "r=i[\"Survived\"][i[\"Survived\"]==0].count()\n",
    "#this is the number of males that died\n",
    "\n",
    "t=i[\"Survived\"][i[\"Survived\"]==1].count()\n",
    "#this is the number of males that survived\n",
    "\n",
    "print(\"the oldest female on the titanic was\", d[\"Age\"].max())\n",
    "print(\"the oldest male on the titanic was\", i[\"Age\"].max())\n",
    "print(\"the oldest female on the titanic who survived was\", e[\"Age\"].max())\n",
    "print(\"the oldest male on the titanic who survived was\", o[\"Age\"].max())\n",
    "print(\"the number of females that died were\",q)\n",
    "print(\"the number of females that survived were\",w)\n",
    "print(\"the number of males that died were\",r)\n",
    "print(\"the number of males that survived were\",t)\n",
    "print(\"Observation 1: It seems not a lot of old folks died \")\n",
    "print(\"Observation 2: More men died than women.\")"
   ]
  },
  {
   "cell_type": "code",
   "execution_count": null,
   "id": "ffe6102c-40d9-459e-bd52-de3ea7d7eb64",
   "metadata": {},
   "outputs": [],
   "source": []
  },
  {
   "cell_type": "code",
   "execution_count": 3,
   "id": "80ed50f5-25d9-4dde-9b74-775b06901a1d",
   "metadata": {},
   "outputs": [
    {
     "name": "stdout",
     "output_type": "stream",
     "text": [
      "0      1\n",
      "1      0\n",
      "2      0\n",
      "3      0\n",
      "4      1\n",
      "      ..\n",
      "886    1\n",
      "887    0\n",
      "888    0\n",
      "889    1\n",
      "890    1\n",
      "Name: Sex, Length: 891, dtype: int64\n",
      "   PassengerId  Survived  Pclass  \\\n",
      "0            1         0       3   \n",
      "1            2         1       1   \n",
      "2            3         1       3   \n",
      "3            4         1       1   \n",
      "4            5         0       3   \n",
      "\n",
      "                                                Name  Sex   Age  SibSp  Parch  \\\n",
      "0                            Braund, Mr. Owen Harris    1  22.0      1      0   \n",
      "1  Cumings, Mrs. John Bradley (Florence Briggs Th...    0  38.0      1      0   \n",
      "2                             Heikkinen, Miss. Laina    0  26.0      0      0   \n",
      "3       Futrelle, Mrs. Jacques Heath (Lily May Peel)    0  35.0      1      0   \n",
      "4                           Allen, Mr. William Henry    1  35.0      0      0   \n",
      "\n",
      "             Ticket     Fare Cabin Embarked  \n",
      "0         A/5 21171   7.2500     0        S  \n",
      "1          PC 17599  71.2833   C85        C  \n",
      "2  STON/O2. 3101282   7.9250     0        S  \n",
      "3            113803  53.1000  C123        S  \n",
      "4            373450   8.0500     0        S  \n"
     ]
    }
   ],
   "source": [
    "s[\"Sex\"]=s[\"Sex\"].replace([\"female\",\"male\"],[0,1])\n",
    "print(s[\"Sex\"])\n",
    "print(s.head())\n",
    "#to replace a categoraical column with numerical column"
   ]
  },
  {
   "cell_type": "code",
   "execution_count": null,
   "id": "b6f837bb-8e6e-4813-9b86-b67711bee5a1",
   "metadata": {},
   "outputs": [],
   "source": []
  },
  {
   "cell_type": "code",
   "execution_count": 6,
   "id": "5b805730-bdff-46d8-a1b6-1a76a1e09f91",
   "metadata": {},
   "outputs": [
    {
     "name": "stdout",
     "output_type": "stream",
     "text": [
      "(891, 2)\n",
      "(891,)\n",
      "0.8059701492537313\n"
     ]
    }
   ],
   "source": [
    "#now we're running predictions\n",
    "x=s[[\"Pclass\", \"Sex\"]].values\n",
    "y=s[\"Survived\"].values\n",
    "\n",
    "\n",
    "from sklearn.model_selection import train_test_split\n",
    "x_train, x_test,y_train, y_test=train_test_split(x,y,test_size=0.3)\n",
    "print(x.shape)\n",
    "print(y.shape)\n",
    "\n",
    "from sklearn.linear_model import LogisticRegression\n",
    "model=LogisticRegression()\n",
    "model.fit(x_train,y_train)\n",
    "#print(model.predict(x_test))\n",
    "print(model.score(x_test,y_test))"
   ]
  },
  {
   "cell_type": "code",
   "execution_count": null,
   "id": "26b338e2-1f4e-4ef2-bf1f-30690f858839",
   "metadata": {},
   "outputs": [],
   "source": []
  }
 ],
 "metadata": {
  "kernelspec": {
   "display_name": "Python 3 (ipykernel)",
   "language": "python",
   "name": "python3"
  },
  "language_info": {
   "codemirror_mode": {
    "name": "ipython",
    "version": 3
   },
   "file_extension": ".py",
   "mimetype": "text/x-python",
   "name": "python",
   "nbconvert_exporter": "python",
   "pygments_lexer": "ipython3",
   "version": "3.9.12"
  }
 },
 "nbformat": 4,
 "nbformat_minor": 5
}
